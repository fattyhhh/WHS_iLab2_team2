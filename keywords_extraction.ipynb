{
 "cells": [
  {
   "cell_type": "code",
   "execution_count": 61,
   "id": "a334f62a",
   "metadata": {},
   "outputs": [
    {
     "name": "stderr",
     "output_type": "stream",
     "text": [
      "[nltk_data] Downloading package punkt to\n",
      "[nltk_data]     C:\\Users\\Sushmita\\AppData\\Roaming\\nltk_data...\n",
      "[nltk_data]   Package punkt is already up-to-date!\n",
      "[nltk_data] Downloading package stopwords to\n",
      "[nltk_data]     C:\\Users\\Sushmita\\AppData\\Roaming\\nltk_data...\n",
      "[nltk_data]   Package stopwords is already up-to-date!\n"
     ]
    }
   ],
   "source": [
    "import csv\n",
    "import nltk\n",
    "from nltk import bigrams\n",
    "from nltk.corpus import stopwords\n",
    "nltk.download('punkt') \n",
    "nltk.download('stopwords')\n",
    "from nltk.corpus import stopwords\n",
    "# Download the necessary data if you haven't already\n",
    "\n",
    "\n",
    "\n",
    "\n"
   ]
  },
  {
   "cell_type": "code",
   "execution_count": 80,
   "id": "03fa981b",
   "metadata": {},
   "outputs": [],
   "source": [
    "# Replace 'your_input_file.csv', 'your_output_file.csv', and 'column_name' with your file names and column name\n",
    "input_csv_file = 'D:/iLab2/Keywords_related_Construction.csv'\n",
    "column_name = 'ï»¿Construction Keywords'\n",
    "output_csv_file = 'D:/iLab2/output1.csv'\n"
   ]
  },
  {
   "cell_type": "code",
   "execution_count": 81,
   "id": "da1b683e",
   "metadata": {},
   "outputs": [],
   "source": [
    "stop_words = set(stopwords.words('english'))\n"
   ]
  },
  {
   "cell_type": "code",
   "execution_count": 91,
   "id": "0c1d6a3d",
   "metadata": {},
   "outputs": [],
   "source": [
    "custom_stopwords = [\"cnn\", \"'s\", \"a\", \"the\", \"of\", \",\", \"or\", \"on\", \".\"]\n",
    "#stop_words.update([\"cnn\", \"'s\", \"a\", \"the\", \"of\", \",\", \"or\"])"
   ]
  },
  {
   "cell_type": "code",
   "execution_count": 92,
   "id": "1d44ad80",
   "metadata": {},
   "outputs": [],
   "source": [
    "bigram_list = []\n",
    "\n"
   ]
  },
  {
   "cell_type": "code",
   "execution_count": 93,
   "id": "65d246aa",
   "metadata": {},
   "outputs": [
    {
     "name": "stdout",
     "output_type": "stream",
     "text": [
      "Detected Column Names: ['ï»¿Construction Keywords']\n"
     ]
    }
   ],
   "source": [
    "with open(input_csv_file, 'r', newline='') as file:\n",
    "    reader = csv.DictReader(file)\n",
    "    \n",
    "    # Print the detected column names\n",
    "    print(f\"Detected Column Names: {reader.fieldnames}\")\n",
    "    \n",
    "    if column_name not in reader.fieldnames:\n",
    "        print(f\"Column '{column_name}' not found in the CSV file.\")\n",
    "    else:\n",
    "        for row in reader:\n",
    "            text = row[column_name]\n",
    "            words = nltk.word_tokenize(text)\n",
    "            \n",
    "            # Remove custom stopwords (ignoring case)\n",
    "            words = [word for word in words if word.lower() not in custom_stopwords]\n",
    "            \n",
    "            bi_grams = list(bigrams(words))\n",
    "            \n",
    "            # Extend the bigram_list with the bigrams (with custom stopwords removed)\n",
    "            bigram_list.extend(bi_grams)"
   ]
  },
  {
   "cell_type": "code",
   "execution_count": 94,
   "id": "2a2d726d",
   "metadata": {},
   "outputs": [],
   "source": [
    "\n",
    "# Write the bigrams to a new CSV file\n",
    "with open(output_csv_file, 'w', newline='') as output_file:\n",
    "    writer = csv.writer(output_file)\n",
    "    for bigram in bigram_list:\n",
    "        writer.writerow(bigram)"
   ]
  },
  {
   "cell_type": "code",
   "execution_count": null,
   "id": "017b3ce5",
   "metadata": {},
   "outputs": [],
   "source": []
  }
 ],
 "metadata": {
  "kernelspec": {
   "display_name": "Python 3 (ipykernel)",
   "language": "python",
   "name": "python3"
  },
  "language_info": {
   "codemirror_mode": {
    "name": "ipython",
    "version": 3
   },
   "file_extension": ".py",
   "mimetype": "text/x-python",
   "name": "python",
   "nbconvert_exporter": "python",
   "pygments_lexer": "ipython3",
   "version": "3.11.4"
  }
 },
 "nbformat": 4,
 "nbformat_minor": 5
}
